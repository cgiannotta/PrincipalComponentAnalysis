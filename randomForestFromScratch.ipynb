{
 "cells": [
  {
   "cell_type": "code",
   "execution_count": 1,
   "metadata": {},
   "outputs": [],
   "source": [
    "import numpy as np\n",
    "import pandas as pd\n",
    "from matplotlib import pyplot as plt\n",
    "import seaborn as sns\n",
    "import csv\n",
    "from random import choices"
   ]
  },
  {
   "cell_type": "markdown",
   "metadata": {},
   "source": [
    "### Questions\n",
    "* how to handle categorical variables?\n",
    "* make classes?\n",
    "\n",
    "### To Do\n",
    "* find new dataset\n",
    "* function to pretty print tree"
   ]
  },
  {
   "cell_type": "markdown",
   "metadata": {},
   "source": [
    "## To Explain\n",
    "\n",
    "### Decision Tree\n",
    "* purity/impurity\n",
    "* entropy vs. Gini index\n",
    "* using decision tree for prediction\n",
    "\n",
    "### Random Forest\n",
    "* bootstrap aggregating\n",
    "* OOB error estimating\n",
    "* pros and cons of random forest\n",
    "\n",
    "### Extra\n",
    "* compare classification with sci-kit learn functions vs. random forest"
   ]
  },
  {
   "cell_type": "code",
   "execution_count": 8,
   "metadata": {},
   "outputs": [
    {
     "name": "stdout",
     "output_type": "stream",
     "text": [
      "[[619.0, 0.0, 42.0, 2.0, 0.0, 1.0, 1.0, 1.0, 101348.88], [502.0, 0.0, 42.0, 8.0, 159660.8, 3.0, 1.0, 0.0, 113931.57], [645.0, 1.0, 44.0, 8.0, 113755.78, 2.0, 1.0, 0.0, 149756.71], [822.0, 1.0, 50.0, 7.0, 0.0, 2.0, 1.0, 1.0, 10062.8], [376.0, 0.0, 29.0, 4.0, 115046.74, 4.0, 1.0, 0.0, 119346.88], [501.0, 1.0, 44.0, 4.0, 142051.07, 2.0, 0.0, 1.0, 74940.5], [684.0, 1.0, 27.0, 2.0, 134603.88, 1.0, 1.0, 1.0, 71725.73], [528.0, 1.0, 31.0, 6.0, 102016.72, 2.0, 0.0, 0.0, 80181.12], [616.0, 1.0, 45.0, 3.0, 143129.41, 2.0, 0.0, 1.0, 64327.26], [653.0, 1.0, 58.0, 1.0, 132602.88, 1.0, 1.0, 0.0, 5097.67], [726.0, 0.0, 24.0, 6.0, 0.0, 2.0, 1.0, 1.0, 54724.03], [510.0, 0.0, 38.0, 4.0, 0.0, 1.0, 1.0, 0.0, 118913.53], [574.0, 0.0, 43.0, 3.0, 141349.43, 1.0, 1.0, 1.0, 100187.43], [411.0, 1.0, 29.0, 0.0, 59697.17, 2.0, 1.0, 1.0, 53483.21], [591.0, 0.0, 39.0, 3.0, 0.0, 3.0, 1.0, 0.0, 140469.38], [475.0, 0.0, 45.0, 0.0, 134264.04, 1.0, 1.0, 0.0, 27822.99], [490.0, 1.0, 31.0, 3.0, 145260.23, 1.0, 0.0, 1.0, 114066.77], [804.0, 1.0, 33.0, 7.0, 76548.6, 1.0, 0.0, 1.0, 98453.45], [582.0, 1.0, 41.0, 6.0, 70349.48, 2.0, 0.0, 1.0, 178074.04], [465.0, 0.0, 51.0, 8.0, 122522.32, 1.0, 0.0, 0.0, 181297.65]]\n",
      "[1, 1, 1, 0, 1, 0, 0, 0, 0, 1, 0, 1, 0, 0, 1, 1, 0, 0, 0, 1]\n"
     ]
    }
   ],
   "source": [
    "X = []\n",
    "y = []\n",
    "\n",
    "#with open(\"Churn.csv\", newline=\"\") as f:\n",
    "with open(\"ChurnTestMedium.csv\", newline=\"\") as f:\n",
    "#with open(\"ChurnTest.csv\", newline=\"\") as f:\n",
    "    reader = csv.reader(f)\n",
    "    next(reader)\n",
    "    for line in reader:\n",
    "        X.append([float(num) for num in line[0:-1]]) # save features to X list\n",
    "        y.append(int(line[-1])) # save class to y list\n",
    "        #X_list.append([float(num) for num in line[0:-1]]) # save features to X list\n",
    "        #y_list.append(int(line[-1])) # save class to y list\n",
    "\n",
    "print(X)\n",
    "print(y)"
   ]
  },
  {
   "cell_type": "code",
   "execution_count": 13,
   "metadata": {},
   "outputs": [
    {
     "name": "stdout",
     "output_type": "stream",
     "text": [
      "tree # 0 :  {'pred_idx': 6, 'pred_val': 0.65, 'left': {'pred_idx': 5, 'pred_val': 1.5714285714285714, 'left': {'pred_idx': 2, 'pred_val': 38.333333333333336, 'left': 0, 'right': 1}, 'right': 0}, 'right': {'pred_idx': 7, 'pred_val': 0.46153846153846156, 'left': 1, 'right': {'pred_idx': 8, 'pred_val': 65255.34666666667, 'left': 0, 'right': {'pred_idx': 3, 'pred_val': 2.3333333333333335, 'left': {'pred_idx': 4, 'pred_val': 67301.94, 'left': 1, 'right': 0}, 'right': 0}}}}\n",
      "tree # 1 :  {'pred_idx': 7, 'pred_val': 0.55, 'left': {'pred_idx': 2, 'pred_val': 41.888888888888886, 'left': {'pred_idx': 3, 'pred_val': 4.25, 'left': 1, 'right': 0}, 'right': 1}, 'right': {'pred_idx': 3, 'pred_val': 3.909090909090909, 'left': {'pred_idx': 3, 'pred_val': 2.1666666666666665, 'left': {'pred_idx': 1, 'pred_val': 0.6666666666666666, 'left': 1, 'right': 0}, 'right': 0}, 'right': 0}}\n",
      "tree # 2 :  {'pred_idx': 1, 'pred_val': 0.55, 'left': {'pred_idx': 8, 'pred_val': 106449.1488888889, 'left': {'pred_idx': 7, 'pred_val': 0.75, 'left': 1, 'right': {'pred_idx': 0, 'pred_val': 639.6666666666666, 'left': {'pred_idx': 3, 'pred_val': 2.5, 'left': 1, 'right': 0}, 'right': 0}}, 'right': 1}, 'right': {'pred_idx': 6, 'pred_val': 0.45454545454545453, 'left': 0, 'right': {'pred_idx': 2, 'pred_val': 41.6, 'left': 0, 'right': {'pred_idx': 7, 'pred_val': 0.3333333333333333, 'left': 1, 'right': 0}}}}\n",
      "tree # 3 :  {'pred_idx': 7, 'pred_val': 0.55, 'left': {'pred_idx': 8, 'pred_val': 104090.83333333333, 'left': {'pred_idx': 3, 'pred_val': 2.3333333333333335, 'left': 1, 'right': 0}, 'right': 1}, 'right': {'pred_idx': 8, 'pred_val': 83763.09999999999, 'left': 0, 'right': {'pred_idx': 1, 'pred_val': 0.6, 'left': {'pred_idx': 2, 'pred_val': 42.5, 'left': 1, 'right': 0}, 'right': 0}}}\n",
      "tree # 4 :  {'pred_idx': 7, 'pred_val': 0.55, 'left': {'pred_idx': 1, 'pred_val': 0.3333333333333333, 'left': 1, 'right': {'pred_idx': 0, 'pred_val': 608.6666666666666, 'left': 0, 'right': 1}}, 'right': {'pred_idx': 5, 'pred_val': 1.5454545454545454, 'left': {'pred_idx': 2, 'pred_val': 35.2, 'left': 0, 'right': {'pred_idx': 8, 'pred_val': 100768.155, 'left': 0, 'right': 1}}, 'right': 0}}\n",
      "tree # 5 :  {'pred_idx': 2, 'pred_val': 39.3, 'left': {'pred_idx': 1, 'pred_val': 0.5555555555555556, 'left': {'pred_idx': 8, 'pred_val': 108363.455, 'left': 0, 'right': 1}, 'right': 0}, 'right': {'pred_idx': 7, 'pred_val': 0.5454545454545454, 'left': 1, 'right': {'pred_idx': 8, 'pred_val': 88156.81833333334, 'left': 0, 'right': {'pred_idx': 5, 'pred_val': 1.3333333333333333, 'left': {'pred_idx': 4, 'pred_val': 70674.715, 'left': 1, 'right': 0}, 'right': 0}}}}\n",
      "tree # 6 :  {'pred_idx': 6, 'pred_val': 0.65, 'left': {'pred_idx': 8, 'pred_val': 113048.68428571429, 'left': 0, 'right': {'pred_idx': 1, 'pred_val': 0.6666666666666666, 'left': 1, 'right': 0}}, 'right': {'pred_idx': 7, 'pred_val': 0.46153846153846156, 'left': 1, 'right': {'pred_idx': 4, 'pred_val': 55941.746666666666, 'left': {'pred_idx': 5, 'pred_val': 1.6666666666666667, 'left': 1, 'right': 0}, 'right': 0}}}\n",
      "tree # 7 :  {'pred_idx': 1, 'pred_val': 0.55, 'left': {'pred_idx': 7, 'pred_val': 0.3333333333333333, 'left': 1, 'right': {'pred_idx': 0, 'pred_val': 639.6666666666666, 'left': {'pred_idx': 2, 'pred_val': 42.5, 'left': 1, 'right': 0}, 'right': 0}}, 'right': {'pred_idx': 6, 'pred_val': 0.45454545454545453, 'left': 0, 'right': {'pred_idx': 7, 'pred_val': 0.6, 'left': 1, 'right': 0}}}\n",
      "tree # 8 :  {'pred_idx': 7, 'pred_val': 0.55, 'left': {'pred_idx': 0, 'pred_val': 527.2222222222222, 'left': 1, 'right': {'pred_idx': 6, 'pred_val': 0.75, 'left': 0, 'right': 1}}, 'right': {'pred_idx': 1, 'pred_val': 0.7272727272727273, 'left': {'pred_idx': 5, 'pred_val': 1.3333333333333333, 'left': {'pred_idx': 8, 'pred_val': 100768.155, 'left': 0, 'right': 1}, 'right': 0}, 'right': 0}}\n",
      "tree # 9 :  {'pred_idx': 7, 'pred_val': 0.55, 'left': {'pred_idx': 8, 'pred_val': 104090.83333333333, 'left': {'pred_idx': 4, 'pred_val': 122961.21333333333, 'left': 0, 'right': 1}, 'right': 1}, 'right': {'pred_idx': 1, 'pred_val': 0.7272727272727273, 'left': {'pred_idx': 8, 'pred_val': 85420.11333333333, 'left': 0, 'right': {'pred_idx': 2, 'pred_val': 42.5, 'left': 1, 'right': 0}}, 'right': 0}}\n"
     ]
    }
   ],
   "source": [
    "# take a dataset and create bootstrapped datasets\n",
    "\n",
    "class RandomForest():\n",
    "    def __init__(self, num_trees=100, depth=10): # default depth?\n",
    "        self.max_depth = depth\n",
    "        self.num_trees = num_trees\n",
    "        self.forest = []\n",
    "    \n",
    "# self.data = []\n",
    "    # return one bootstrapped dataset from given data\n",
    "    def bootstrap(self, X, y):\n",
    "        bsX = choices(X, k=len(X)) # sample X with replacement\n",
    "        bsY = choices(y, k=len(y)) # sample y with replacement\n",
    "        return bsX, bsY\n",
    "\n",
    "#bootstrap(X, y)\n",
    "#num_trees = 4\n",
    "\n",
    "    # return list of bootstrapped datasets (1 for each tree in forest)\n",
    "    def get_datasets(self, X, y):\n",
    "        bootstrap_sets = []\n",
    "        for i in range(self.num_trees): # for each tree in the forest\n",
    "            bootstrap_sets.append(bootstrap(X, y)) # get boostrapped sample, add to list\n",
    "        return bootstrap_sets\n",
    "\n",
    "#get_datasets(X, y)\n",
    "\n",
    "    # grow forest\n",
    "    def grow_forest(self, X, y):\n",
    "        datasets = get_datasets(X, y) # get bootstrapped datasets to use building trees\n",
    "        for i in range(self.num_trees): # for each tree and each dataset\n",
    "            tree = DecisionTree(self.max_depth)\n",
    "            #tree.build_tree(X, y)\n",
    "            tree.build_tree(datasets[i][0], datasets[i][1]) # build tree with next bootstrapped dataset\n",
    "            # is this where i need to get oob predictions?\n",
    "            self.forest.append(tree) # add tree to forest\n",
    "\n",
    "myForest = RandomForest(num_trees=10, depth=8)\n",
    "myForest.grow_forest(X, y)\n",
    "for i in range(len(myForest.forest)):\n",
    "    print(\"tree #\", i, \": \", myForest.forest[i].tree)"
   ]
  },
  {
   "cell_type": "code",
   "execution_count": null,
   "metadata": {},
   "outputs": [],
   "source": [
    "# main function\n",
    "# load data\n",
    "# instantiate random forest class\n",
    "# call build forest method"
   ]
  },
  {
   "cell_type": "code",
   "execution_count": 4,
   "metadata": {},
   "outputs": [],
   "source": [
    "# utility functions to support building decision tree\n",
    "\n",
    "# calculate cost function for split (entropy)\n",
    "def calc_entropy(y_vals):\n",
    "    ent = 0\n",
    "    for y_val in set(y_vals):\n",
    "        prop = len([val for val in y_vals if val==y_val]) / len(y_vals)\n",
    "        ent += (-1 * prop) * np.log2(prop) # update entropy using formula\n",
    "    return ent\n",
    "\n",
    "# split data\n",
    "def split_data(pred_idx, pred_val, X_vals, y_vals):\n",
    "        X_left, X_right, y_left, y_right = [], [], [], []\n",
    "        for i in range(len(X_vals)):\n",
    "            if X_vals[i][pred_idx] < pred_val:\n",
    "                X_left.append(X_vals[i])\n",
    "                y_left.append(y_vals[i])\n",
    "            else:\n",
    "                X_right.append(X_vals[i])\n",
    "                y_right.append(y_vals[i])\n",
    "        return X_left, X_right, y_left, y_right\n",
    "\n",
    "# calculate information gain\n",
    "def calc_infogain(parent_yvals, left_yvals, right_yvals):\n",
    "    H = calc_entropy(parent_yvals) # entropy of parent node\n",
    "    #print(\"H: \", H)\n",
    "    H_left = calc_entropy(left_yvals) # entropy of left child node\n",
    "    #print(\"H_left: \", H_left)\n",
    "    H_right = calc_entropy(right_yvals) # entropy of right child node\n",
    "    #print(\"H_right: \", H_right)\n",
    "    P_left = len(left_yvals) / len(parent_yvals)\n",
    "    P_right = len(right_yvals) / len(parent_yvals)\n",
    "    cond_entropy = (H_left * P_left) + (H_right * P_right) # conditional entropy to compare to parent node\n",
    "    #print(\"cond_entropy: \", cond_entropy)\n",
    "    return H - cond_entropy # difference between parent node and child node entropy\n",
    "\n",
    "# determine best split (or no split)\n",
    "def best_split(X, y):\n",
    "    m = int(np.round(np.sqrt(len(X[1])),2)) # set number of predectors to test = sqrt total # predictors\n",
    "    pred_idxs_to_test = np.random.choice(range(0,len(X[1])),m, replace=False) # select random subset of predictors to test\n",
    "    pred_vals_to_test = np.mean(X, axis=0)[pred_idxs_to_test] # use mean value for each predictor as split value\n",
    "    best_idx = 0\n",
    "    best_val = 0\n",
    "    max_infogain = 0\n",
    "    #max_infogain, best_idx, best_val, best_left, best_right = 0, 9999999, 9999999, {}, {}\n",
    "    X_left, X_right, y_left, y_right = [], [], [], []\n",
    "    for i in range(len(pred_idxs_to_test)): # for each predictor in random subset\n",
    "        X_l, X_r, y_l, y_r = split_data(pred_idxs_to_test[i], pred_vals_to_test[i], X, y) # split data on mean value for each predictor\n",
    "        infogain = calc_infogain(y, y_l, y_r)\n",
    "        if infogain > max_infogain: # determine if split increases information gain / reduces entropy\n",
    "            max_infogain = infogain\n",
    "            best_idx = pred_idxs_to_test[i]\n",
    "            best_val = pred_vals_to_test[i]\n",
    "            X_left, y_left = X_l, y_l\n",
    "            X_right, y_right = X_r, y_r\n",
    "            #best_left = {\"X_left\": X_l, \"y_left\": y_l}\n",
    "            #best_right = {\"X_right\": X_r, \"y_right\": y_r}\n",
    "    #print(\"max_infogain\", max_infogain)\n",
    "    return {\"pred_idx\": best_idx, \"pred_val\": best_val, \"left\": {\"X_left\": X_left, \"y_left\": y_left}, \"right\": {\"X_right\": X_right, \"y_right\": y_right}}"
   ]
  },
  {
   "cell_type": "code",
   "execution_count": 5,
   "metadata": {},
   "outputs": [],
   "source": [
    "class DecisionTree(object):\n",
    "    # create new instance of DecisionTree\n",
    "    def __init__(self, depth):\n",
    "        self.max_depth = depth\n",
    "        self.tree = {}\n",
    "    \n",
    "    # build decision tree\n",
    "    def build_tree(self, X, y, parent={}, depth=0):\n",
    "        \n",
    "        # grow decision tree\n",
    "        def grow_tree(X, y):\n",
    "            self.tree = best_split(X, y) # get root node with best split for full data\n",
    "            parent = {} # begin with empty parent node\n",
    "            split_tree(self.tree, parent, 1) # call recursive function to build tree\n",
    "\n",
    "        # split tree, called recursively\n",
    "        def split_tree(node, parent_node, d):\n",
    "\n",
    "            # save data from node to be used in split if needed\n",
    "            left, right = node[\"left\"], node[\"right\"]\n",
    "            #print(\"left: \", left)\n",
    "            #print(\"right: \", right)\n",
    "\n",
    "            # delete data from node so can reassign best classification\n",
    "            del(node[\"left\"], node[\"right\"])\n",
    "            #print(\"node: \", node)\n",
    "\n",
    "            # check if node contains empty dataset\n",
    "            if len(left[\"X_left\"])==0 or len(right[\"X_right\"])==0:\n",
    "            #if not left[\"X_left\"] or not right[\"X_right\"]:\n",
    "                # assign each branch of the node to the most common class from the parent node\n",
    "                node[\"left\"] = max(set(parent_node[\"left\"][\"y_left\"]), key=parent_node[\"left\"][\"y_left\"].count)\n",
    "                node[\"right\"] = max(set(parent_node[\"right\"][\"y_right\"]), key=parent_node[\"right\"][\"y_right\"].count)\n",
    "                return\n",
    "\n",
    "            elif d >= self.max_depth: # check if tree has been split maximum number of times\n",
    "                # assign each branch of the node to the most common class from this node\n",
    "                node['left'] = max(set(left['y_left']), key=left['y_left'].count)\n",
    "                node['right'] = max(set(right['y_right']), key=right['y_right'].count)\n",
    "                #node[\"left\"] = max(set(parent_node[\"left\"][\"y_left\"]), key=parent_node[\"left\"][\"y_left\"].count)\n",
    "                #node[\"right\"] = max(set(parent_node[\"right\"][\"y_right\"]), key=parent_node[\"right\"][\"y_right\"].count)\n",
    "                return\n",
    "            else:\n",
    "                # check left and right datasets to see if need to split more or make terminal node\n",
    "                # assess left node\n",
    "                if len(set(left[\"y_left\"]))==1:\n",
    "                    # assign each branch of the node to the most common class from this node\n",
    "                    node['left'] = max(set(left['y_left']), key=left['y_left'].count)\n",
    "                else:\n",
    "                    # split this branch by calling split_tree function\n",
    "                    node[\"left\"] = best_split(left[\"X_left\"], left[\"y_left\"])\n",
    "                    parent = {\"left\": left, \"right\": right}\n",
    "                    split_tree(node[\"left\"], parent, d+1)\n",
    "                # assess right node\n",
    "                if len(set(right[\"y_right\"]))==1: \n",
    "                    # assign each branch of the node to the most common class from this node\n",
    "                    node['right'] = max(set(right['y_right']), key=right['y_right'].count)\n",
    "                    return\n",
    "                else:\n",
    "                    # split this branch by calling split_tree function\n",
    "                    node[\"right\"] = best_split(right[\"X_right\"], right[\"y_right\"])\n",
    "                    parent = {\"left\": left, \"right\": right}\n",
    "                    split_tree(node[\"right\"], parent, d+1)\n",
    "        \n",
    "        # call grow_tree to create decision tree\n",
    "        grow_tree(X, y)\n",
    "                \n",
    "    # predict classification for new datapoint\n",
    "    def predict(self, x):\n",
    "        curr_node = self.tree\n",
    "        while True:\n",
    "            if x[curr_node['pred_idx']] < curr_node['pred_val']:\n",
    "                if type(curr_node['left'])==int:\n",
    "                    return curr_node['left']\n",
    "                else:\n",
    "                    curr_node = curr_node['left']\n",
    "                    continue\n",
    "            else:\n",
    "                if type(curr_node['right'])==int:\n",
    "                    return curr_node['right']\n",
    "                else:\n",
    "                    curr_node = curr_node['right']\n",
    "                    continue"
   ]
  },
  {
   "cell_type": "code",
   "execution_count": 12,
   "metadata": {},
   "outputs": [],
   "source": [
    "# test decision tree\n",
    "mytree = DecisionTree(5)\n",
    "mytree.build_tree(X, y)\n",
    "#print(\"tree: \", mytree.tree)"
   ]
  },
  {
   "cell_type": "code",
   "execution_count": 13,
   "metadata": {},
   "outputs": [],
   "source": [
    "# test predict\n",
    "preds = []\n",
    "for i in range(len(X)):\n",
    "    preds.append(mytree.predict(X[i]))\n",
    "#print(\"predictions: \", preds)\n",
    "#print(\"actual vals: \", y)"
   ]
  },
  {
   "cell_type": "code",
   "execution_count": 14,
   "metadata": {},
   "outputs": [
    {
     "name": "stdout",
     "output_type": "stream",
     "text": [
      "accuracy:  0.7116\n"
     ]
    }
   ],
   "source": [
    "# calculate accuracy\n",
    "def calc_accuracy(y_hat, y):\n",
    "    correct = []\n",
    "    for i in range(len(y_hat)):\n",
    "        correct.append(y_hat[i]==y[i])\n",
    "    return sum(correct) / len(y_hat)\n",
    "    \n",
    "print(\"accuracy: \", calc_accuracy(preds, y))"
   ]
  },
  {
   "cell_type": "code",
   "execution_count": 15,
   "metadata": {},
   "outputs": [
    {
     "name": "stdout",
     "output_type": "stream",
     "text": [
      "avg accuracy:  0.770266\n"
     ]
    }
   ],
   "source": [
    "from statistics import mean\n",
    "accuracies = []\n",
    "for i in range(100):\n",
    "    #print(\"building tree #\", i+1)\n",
    "    tree = DecisionTree(8)\n",
    "    tree.build_tree(X, y)\n",
    "    preds = []\n",
    "    for j in range(len(X)):\n",
    "        preds.append(tree.predict(X[j]))\n",
    "    accuracies.append(calc_accuracy(preds, y))\n",
    "    #print(accuracies)\n",
    "print(\"avg accuracy: \", mean(accuracies))"
   ]
  },
  {
   "cell_type": "code",
   "execution_count": null,
   "metadata": {},
   "outputs": [],
   "source": [
    "# function to calculate cost function for split (entropy)\n",
    "def calc_entropy(y_vals):\n",
    "    ent = 0\n",
    "    for y_val in set(y_vals):\n",
    "        prop = len([val for val in y_vals if val==y_val]) / len(y_vals)\n",
    "        ent += (-1 * prop) * np.log2(prop) # update entropy using formula\n",
    "    return ent\n",
    "\n",
    "calc_entropy(y)\n",
    "#calc_entropy(data[:,-1])\n",
    "#test_list = [1, 0, 1, 1, 1]\n",
    "#calc_entropy(test_list)"
   ]
  },
  {
   "cell_type": "code",
   "execution_count": 4,
   "metadata": {},
   "outputs": [],
   "source": [
    "# new function to split data\n",
    "def split_data(pred_idx, pred_val, X_vals, y_vals):\n",
    "    X_left, X_right, y_left, y_right = [], [], [], []\n",
    "    for i in range(len(X_vals)):\n",
    "        if X_vals[i][pred_idx] < pred_val:\n",
    "            X_left.append(X_vals[i])\n",
    "            y_left.append(y_vals[i])\n",
    "        else:\n",
    "            X_right.append(X_vals[i])\n",
    "            y_right.append(y_vals[i])\n",
    "    return X_left, X_right, y_left, y_right\n",
    "\n",
    "#X_left, X_right, y_left, y_right = split_data(0, 510, X, y)\n",
    "#print(\"left: \", X_left, y_left)\n",
    "#print(\"right: \", X_right, y_right)"
   ]
  },
  {
   "cell_type": "code",
   "execution_count": 5,
   "metadata": {},
   "outputs": [
    {
     "data": {
      "text/plain": [
       "0.01100085281782226"
      ]
     },
     "execution_count": 5,
     "metadata": {},
     "output_type": "execute_result"
    }
   ],
   "source": [
    "# function to calculate information gain\n",
    "def calc_infogain(parent_yvals, left_yvals, right_yvals):\n",
    "    H = calc_entropy(parent_yvals) # entropy of parent node\n",
    "    #print(\"H: \", H)\n",
    "    H_left = calc_entropy(left_yvals) # entropy of left child node\n",
    "    #print(\"H_left: \", H_left)\n",
    "    H_right = calc_entropy(right_yvals) # entropy of right child node\n",
    "    #print(\"H_right: \", H_right)\n",
    "    P_left = len(left_yvals) / len(parent_yvals)\n",
    "    P_right = len(right_yvals) / len(parent_yvals)\n",
    "    cond_entropy = (H_left * P_left) + (H_right * P_right) # conditional entropy to compare to parent node\n",
    "    #print(\"cond_entropy: \", cond_entropy)\n",
    "    return H - cond_entropy # difference between parent node and child node entropy\n",
    "\n",
    "#parent_y = data[:,-1]\n",
    "#left_node, right_node = split_data(0, 600, data)\n",
    "#print(left_node)\n",
    "#print(right_node)\n",
    "#calc_infogain(parent_y, [obs[-1] for obs in left_node], [obs[-1] for obs in right_node])\n",
    "X_left, X_right, y_left, y_right = split_data(0, 600, X, y)\n",
    "calc_infogain(y, y_left, y_right)"
   ]
  },
  {
   "cell_type": "code",
   "execution_count": null,
   "metadata": {},
   "outputs": [],
   "source": [
    "m = int(np.round(np.sqrt(len(X[1])),2)) # set number of predectors to test = sqrt total # predictors\n",
    "pred_idxs_to_test = np.random.choice(range(0,len(X[1])),m, replace=False) # select random subset of predictors to test\n",
    "pred_vals_to_test = np.mean(X, axis=0)[pred_idxs_to_test] # use mean value for each predictor as split value\n",
    "print(pred_vals_to_test)"
   ]
  },
  {
   "cell_type": "code",
   "execution_count": 110,
   "metadata": {},
   "outputs": [],
   "source": [
    "# new function to determine best split (or no split)\n",
    "def best_split(X, y):\n",
    "    m = int(np.round(np.sqrt(len(X[1])),2)) # set number of predectors to test = sqrt total # predictors\n",
    "    pred_idxs_to_test = np.random.choice(range(0,len(X[1])),m, replace=False) # select random subset of predictors to test\n",
    "    pred_vals_to_test = np.mean(X, axis=0)[pred_idxs_to_test] # use mean value for each predictor as split value\n",
    "    max_infogain, best_idx, best_val, best_left, best_right = 0, 9999999, 9999999, {}, {}\n",
    "    for i in range(len(pred_idxs_to_test)): # for each predictor in random subset\n",
    "        X_left, X_right, y_left, y_right = split_data(pred_idxs_to_test[i], pred_vals_to_test[i], X, y) # split data on mean value for each predictor\n",
    "        infogain = calc_infogain(y, y_left, y_right)\n",
    "        if infogain > max_infogain: # determine if split increases information gain / reduces entropy\n",
    "            max_infogain = infogain\n",
    "            best_idx = pred_idxs_to_test[i]\n",
    "            best_val = pred_vals_to_test[i]\n",
    "            best_left = {\"X_left\": X_left, \"y_left\": y_left}\n",
    "            best_right = {\"X_right\": X_right, \"y_right\": y_right}\n",
    "    #print(\"max_infogain\", max_infogain)\n",
    "    node = {\"pred_idx\": best_idx, \"pred_val\": best_val, \"left\": best_left, \"right\": best_right}\n",
    "    print(\"node from best split: \", node)\n",
    "    return node\n",
    "    #return {\"pred_idx\": best_idx, \"pred_val\": best_val, \"left\": best_left, \"right\": best_right}\n",
    "\n",
    "#best_split(X, y)"
   ]
  },
  {
   "cell_type": "code",
   "execution_count": null,
   "metadata": {},
   "outputs": [],
   "source": [
    "# function to determine best split (or no split)\n",
    "'''def best_split(data):\n",
    "    y_vals = data[:,-1] # extract response values from data\n",
    "    #max_infogain = 0\n",
    "    m = int(np.round(np.sqrt(data.shape[1]-1))) # set number of predectors to test = sqrt total # predictors\n",
    "    pred_idxs_to_test = np.random.choice(range(0,data.shape[1]-1),m, replace=False) # select random subset of predictors to test\n",
    "    pred_vals_to_test = np.mean(data[:,0:-1], axis=0)[pred_idxs_to_test] # use mean value for each predictor as split value\n",
    "    #print(pred_idxs_to_test)\n",
    "    #max_infogain, best_idx, best_val, best_left, best_right = 0, 999, 999, list(), list()\n",
    "    max_infogain, best_idx, best_val, best_left, best_right = 0, 999, 999, None, None\n",
    "    for i in range(len(pred_idxs_to_test)): # for each predictor in random subset\n",
    "        left, right = split_data(pred_idxs_to_test[i], pred_vals_to_test[i], data) # split data on mean value for each predictor\n",
    "        #infogain = calc_infogain(y_vals, [obs[-1] for obs in left], [obs[-1] for obs in right])\n",
    "        infogain = calc_infogain(y_vals, left[:,-1], right[:,-1])\n",
    "        if infogain > max_infogain: # determine if split increases information gain / reduces entropy\n",
    "            max_infogain = infogain\n",
    "            best_idx = pred_idxs_to_test[i]\n",
    "            best_val = pred_vals_to_test[i]\n",
    "            best_left, best_right = left, right\n",
    "    print(\"max_infogain\", max_infogain)\n",
    "    return {\"pred_idx\": best_idx, \"pred_val\": best_val, \"left\": best_left, \"right\": best_right}\n",
    "\n",
    "best_split(data)'''"
   ]
  },
  {
   "cell_type": "code",
   "execution_count": null,
   "metadata": {},
   "outputs": [],
   "source": [
    "# old\n",
    "# function to determine best split (or no split)\n",
    "'''def best_split(data):\n",
    "    y_vals = data[:,-1] # extract response values from data\n",
    "    max_infogain = 0\n",
    "    m = int(np.round(np.sqrt(data.shape[1]-1))) # set number of predectors to test = sqrt total predictors\n",
    "    pred_vals_to_test = np.random.choice(range(0,data.shape[1]-1),m, replace=False) # select random subset of predictors to test\n",
    "    print(pred_vals_to_test)\n",
    "    #max_infogain, best_idx, best_val, best_left, best_right = 0, 999, 999, list(), list()\n",
    "    for idx in pred_vals_to_test:\n",
    "        for row in data:\n",
    "            left, right = split_data(idx, row[idx], data)\n",
    "            infogain = calc_infogain(y_vals, [obs[-1] for obs in left], [obs[-1] for obs in right])\n",
    "            #print(\"infogain: \", infogain)\n",
    "            if infogain > max_infogain:\n",
    "                max_infogain = infogain\n",
    "                best_idx = idx\n",
    "                best_val = row[idx]\n",
    "                best_left, best_right = left, right\n",
    "    print(\"max_infogain\", max_infogain)\n",
    "    return {\"pred_idx\": best_idx, \"pred_val\": best_val, \"left\": best_left, \"right\": best_right}\n",
    "\n",
    "best_split(data)'''"
   ]
  },
  {
   "cell_type": "code",
   "execution_count": 7,
   "metadata": {},
   "outputs": [],
   "source": [
    "# function to build decision tree\n",
    "def build_tree(X, y):\n",
    "    #tree = best_split(X, y) # get root node with best split for full data\n",
    "    depth = 0 # set initial depth to 0\n",
    "    parent = {} # begin with empty parent node\n",
    "    split_tree(tree, parent, depth) # call recursive function to build tree"
   ]
  },
  {
   "cell_type": "code",
   "execution_count": 8,
   "metadata": {},
   "outputs": [],
   "source": [
    "# function to split tree, called recursively\n",
    "def split_tree(node, parent_node, d):\n",
    "    \n",
    "    # save data from node to be used in split if needed\n",
    "    left, right = node[\"left\"], node[\"right\"]\n",
    "    \n",
    "    # delete data from node so can reassign best classification\n",
    "    del(node[\"left\"], node[\"right\"])\n",
    "    \n",
    "    # check if node contains empty dataset\n",
    "    if len(left[\"X_left\"])==0 or len(right[\"X_right\"])==0:\n",
    "        # assign each branch of the node to the most common class from the parent node\n",
    "        node[\"left\"] = max(set(parent_node[\"left\"][\"y_left\"]), key=parent_node[\"left\"][\"y_left\"].count)\n",
    "        node[\"right\"] = max(set(parent_node[\"right\"][\"y_right\"]), key=parent_node[\"right\"][\"y_right\"].count)\n",
    "        return\n",
    "    \n",
    "    # check if tree has been split maximum number of times\n",
    "    elif d >= max_depth:\n",
    "        # assign each branch of the node to the most common class from the parent node\n",
    "        node[\"left\"] = max(set(parent_node[\"left\"][\"y_left\"]), key=parent_node[\"left\"][\"y_left\"].count)\n",
    "        node[\"right\"] = max(set(parent_node[\"right\"][\"y_right\"]), key=parent_node[\"right\"][\"y_right\"].count)\n",
    "        return\n",
    "    else:\n",
    "        # check left and right datasets to see if need to split more or make terminal node\n",
    "        # assess left node\n",
    "        if len(set(left[\"y_left\"]))==1:\n",
    "            # assign left branch of the node to the most common class from the parent node\n",
    "            node[\"left\"] = max(set(parent_node[\"left\"][\"y_left\"]), key=parent_node[\"left\"][\"y_left\"].count)\n",
    "        else:\n",
    "            # split this branch by calling split_tree function\n",
    "            node[\"left\"] = best_split(left[\"X_left\"], left[\"y_left\"])\n",
    "            parent = {\"left\": left, \"right\": right}\n",
    "            split_tree(node[\"left\"], parent, d+1)\n",
    "        # assess right node\n",
    "        if len(set(right[\"y_right\"]))==1:\n",
    "            # assign right branch of the node to the most common class from the parent node\n",
    "            node[\"right\"] = max(set(parent_node[\"right\"][\"y_right\"]), key=parent_node[\"right\"][\"y_right\"].count)\n",
    "            return\n",
    "        else:\n",
    "            # split this branch by calling split_tree function\n",
    "            node[\"right\"] = best_split(right[\"X_right\"], right[\"y_right\"])\n",
    "            parent = {\"left\": left, \"right\": right}\n",
    "            split_tree(node[\"right\"], parent, d+1)"
   ]
  },
  {
   "cell_type": "code",
   "execution_count": 9,
   "metadata": {},
   "outputs": [],
   "source": [
    "# set number of trees\n",
    "num_trees = 100"
   ]
  },
  {
   "cell_type": "code",
   "execution_count": null,
   "metadata": {},
   "outputs": [],
   "source": [
    "# bootstrap datasets"
   ]
  },
  {
   "cell_type": "code",
   "execution_count": 10,
   "metadata": {},
   "outputs": [
    {
     "name": "stdout",
     "output_type": "stream",
     "text": [
      "tree:  {'pred_idx': 7, 'pred_val': 0.55, 'left': {'pred_idx': 8, 'pred_val': 104090.83333333333, 'left': {'pred_idx': 5, 'pred_val': 1.3333333333333333, 'left': 1, 'right': 1}, 'right': 0}, 'right': {'pred_idx': 3, 'pred_val': 3.909090909090909, 'left': {'pred_idx': 1, 'pred_val': 0.6666666666666666, 'left': {'pred_idx': 8, 'pred_val': 100768.155, 'left': 0, 'right': 0}, 'right': 0}, 'right': 0}}\n"
     ]
    }
   ],
   "source": [
    "# main function\n",
    "# set maximum depth for tree\n",
    "max_depth = 5\n",
    "# get root node for tree\n",
    "tree = best_split(X, y)\n",
    "# split root node recursively\n",
    "build_tree(X, y)\n",
    "print(\"tree: \", tree)"
   ]
  },
  {
   "cell_type": "code",
   "execution_count": 11,
   "metadata": {},
   "outputs": [],
   "source": [
    "# function to predict classification for new datapoint\n",
    "def predict(x):\n",
    "    curr_node = tree\n",
    "    while True:\n",
    "        if x[curr_node['pred_idx']] < curr_node['pred_val']:\n",
    "            if type(curr_node['left'])==int:\n",
    "                return curr_node['left']\n",
    "            else:\n",
    "                curr_node = curr_node['left']\n",
    "                continue\n",
    "        else:\n",
    "            if type(curr_node['right'])==int:\n",
    "                return curr_node['right']\n",
    "            else:\n",
    "                curr_node = curr_node['right']\n",
    "                continue\n",
    "\n",
    "#preds = []\n",
    "#for i in range(len(X)):\n",
    "#    preds.append(predict(X[i]))\n",
    "#print(\"predictions: \", preds)\n",
    "#print(\"actual vals: \", y)"
   ]
  },
  {
   "cell_type": "code",
   "execution_count": 12,
   "metadata": {},
   "outputs": [],
   "source": [
    "# function to calculate accuracy\n",
    "def calc_accuracy(y_hat, y):\n",
    "    correct = []\n",
    "    for i in range(len(y_hat)):\n",
    "        correct.append(y_hat[i]==y[i])\n",
    "    return sum(correct) / len(y_hat)\n",
    "    \n",
    "#print(\"accuracy: \", calc_accuracy(preds, y))"
   ]
  },
  {
   "cell_type": "code",
   "execution_count": 159,
   "metadata": {},
   "outputs": [
    {
     "name": "stdout",
     "output_type": "stream",
     "text": [
      "avg accuracy:  0.694758\n"
     ]
    }
   ],
   "source": [
    "from statistics import mean\n",
    "accuracies = []\n",
    "for i in range(100):\n",
    "    #print(\"building tree #\", i+1)\n",
    "    # set maximum depth for tree\n",
    "    max_depth = 5\n",
    "    # get root node for tree\n",
    "    tree = best_split(X, y)\n",
    "    # split root node recursively\n",
    "    build_tree(X, y)\n",
    "    preds = []\n",
    "    for j in range(len(X)):\n",
    "        preds.append(predict(X[j]))\n",
    "    accuracies.append(calc_accuracy(preds, y))\n",
    "print(\"avg accuracy: \", mean(accuracies))"
   ]
  },
  {
   "cell_type": "markdown",
   "metadata": {},
   "source": [
    "#### References\n",
    "http://www.cs.cmu.edu/afs/cs.cmu.edu/academic/class/15381-s06/www/DTs.pdf\n",
    "https://towardsdatascience.com/what-is-out-of-bag-oob-score-in-random-forest-a7fa23d710"
   ]
  },
  {
   "cell_type": "code",
   "execution_count": null,
   "metadata": {},
   "outputs": [],
   "source": []
  }
 ],
 "metadata": {
  "kernelspec": {
   "display_name": "Python 3",
   "language": "python",
   "name": "python3"
  },
  "language_info": {
   "codemirror_mode": {
    "name": "ipython",
    "version": 3
   },
   "file_extension": ".py",
   "mimetype": "text/x-python",
   "name": "python",
   "nbconvert_exporter": "python",
   "pygments_lexer": "ipython3",
   "version": "3.7.4"
  }
 },
 "nbformat": 4,
 "nbformat_minor": 4
}
