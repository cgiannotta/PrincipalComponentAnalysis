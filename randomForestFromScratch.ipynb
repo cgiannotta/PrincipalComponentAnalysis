{
 "cells": [
  {
   "cell_type": "code",
   "execution_count": 13,
   "metadata": {},
   "outputs": [],
   "source": [
    "import numpy as np\n",
    "import pandas as pd\n",
    "from matplotlib import pyplot as plt\n",
    "import seaborn as sns\n",
    "import csv"
   ]
  },
  {
   "cell_type": "markdown",
   "metadata": {},
   "source": [
    "## To Explain\n",
    "\n",
    "### Decision Tree\n",
    "* purity/impurity\n",
    "* entropy vs. Gini index\n",
    "* using decision tree for prediction\n",
    "\n",
    "### Random Forest\n",
    "* bootstrap aggregating\n",
    "* OOB error estimating\n",
    "* pros and cons of random forest\n",
    "\n",
    "### Extra\n",
    "* compare classification with sci-kit learn functions vs. random forest"
   ]
  },
  {
   "cell_type": "code",
   "execution_count": 55,
   "metadata": {},
   "outputs": [],
   "source": [
    "X = []\n",
    "y = []\n",
    "\n",
    "with open(\"Churn.csv\", newline=\"\") as f:\n",
    "#with open(\"ChurnTestMedium.csv\", newline=\"\") as f:\n",
    "    reader = csv.reader(f)\n",
    "    next(reader)\n",
    "    for line in reader:\n",
    "        X.append([float(num) for num in line[0:-1]]) # save features to X list\n",
    "        y.append(int(line[-1])) # save class to y list\n",
    "\n",
    "#print(X)\n",
    "#print(y)"
   ]
  },
  {
   "cell_type": "code",
   "execution_count": null,
   "metadata": {},
   "outputs": [],
   "source": [
    "class DecisionTree(self, depth=0):\n",
    "    def init "
   ]
  },
  {
   "cell_type": "code",
   "execution_count": 13,
   "metadata": {},
   "outputs": [],
   "source": [
    "#data = pd.read_csv(\"ChurnTest.csv\").to_numpy()\n",
    "#data.head()\n",
    "#data[:,:10]"
   ]
  },
  {
   "cell_type": "code",
   "execution_count": 14,
   "metadata": {},
   "outputs": [],
   "source": [
    "#np.mean(data[:,0:-1], axis=0)[1]"
   ]
  },
  {
   "cell_type": "code",
   "execution_count": 27,
   "metadata": {},
   "outputs": [],
   "source": [
    "#data = pd.read_csv(\"Churn.csv\").to_numpy()"
   ]
  },
  {
   "cell_type": "code",
   "execution_count": 6,
   "metadata": {},
   "outputs": [],
   "source": [
    "#pd.read_csv(\"Churn.csv\").head()"
   ]
  },
  {
   "cell_type": "code",
   "execution_count": null,
   "metadata": {},
   "outputs": [],
   "source": [
    "#sns.FacetGrid(data, hue=\"Y\", height=4).map(plt.scatter, \"X1\", \"X2\").add_legend()\n",
    "#plt.show()"
   ]
  },
  {
   "cell_type": "code",
   "execution_count": null,
   "metadata": {},
   "outputs": [],
   "source": [
    "# function to calculate metric for split (entropy)\n",
    "#def calc_entropy(obs_list):\n",
    "#    ent = 0\n",
    " #   for unique_class in set(obs_list.iloc[:,-1]):\n",
    "  #      prop = len(obs_list[obs_list.iloc[:,-1]==unique_class]) / len(obs_list)\n",
    "   #     ent += (-1 * prop) * np.log2(prop)\n",
    "    #return ent\n",
    "\n",
    "#calc_entropy(data)"
   ]
  },
  {
   "cell_type": "code",
   "execution_count": 56,
   "metadata": {},
   "outputs": [
    {
     "data": {
      "text/plain": [
       "0.9751150605666907"
      ]
     },
     "execution_count": 56,
     "metadata": {},
     "output_type": "execute_result"
    }
   ],
   "source": [
    "# function to calculate cost function for split (entropy)\n",
    "def calc_entropy(y_vals):\n",
    "    ent = 0\n",
    "    for y_val in set(y_vals):\n",
    "        prop = len([val for val in y_vals if val==y_val]) / len(y_vals)\n",
    "        ent += (-1 * prop) * np.log2(prop) # update entropy using formula\n",
    "    return ent\n",
    "\n",
    "calc_entropy(y)\n",
    "#calc_entropy(data[:,-1])\n",
    "#test_list = [1, 0, 1, 1, 1]\n",
    "#calc_entropy(test_list)"
   ]
  },
  {
   "cell_type": "code",
   "execution_count": 57,
   "metadata": {},
   "outputs": [],
   "source": [
    "# new function to split data\n",
    "def split_data(pred_idx, pred_val, X_vals, y_vals):\n",
    "    X_left, X_right, y_left, y_right = [], [], [], []\n",
    "    for i in range(len(X_vals)):\n",
    "        if X_vals[i][pred_idx] < pred_val:\n",
    "            X_left.append(X_vals[i])\n",
    "            y_left.append(y_vals[i])\n",
    "        else:\n",
    "            X_right.append(X_vals[i])\n",
    "            y_right.append(y_vals[i])\n",
    "    return X_left, X_right, y_left, y_right\n",
    "\n",
    "#X_left, X_right, y_left, y_right = split_data(0, 510, X, y)\n",
    "#print(\"left: \", X_left, y_left)\n",
    "#print(\"right: \", X_right, y_right)"
   ]
  },
  {
   "cell_type": "code",
   "execution_count": 22,
   "metadata": {},
   "outputs": [],
   "source": [
    "# function to split data\n",
    "#def split_data(pred_idx, pred_val, data):\n",
    " #   left_node = data[data[:,pred_idx] < pred_val] # left holds obs with vals less than pred_val\n",
    "  #  right_node = data[data[:,pred_idx] >= pred_val] # right holds obs with vals greater than or equal to pred_val\n",
    "   # return left_node, right_node\n",
    "\n",
    "#left, right = split_data(0, 600, data)\n",
    "#print(\"left: \", left)\n",
    "#print(\"right: \", right)"
   ]
  },
  {
   "cell_type": "code",
   "execution_count": 58,
   "metadata": {},
   "outputs": [
    {
     "data": {
      "text/plain": [
       "0.9712365260039633"
      ]
     },
     "execution_count": 58,
     "metadata": {},
     "output_type": "execute_result"
    }
   ],
   "source": [
    "# function to calculate information gain\n",
    "def calc_infogain(parent_yvals, left_yvals, right_yvals):\n",
    "    H = calc_entropy(parent_yvals) # entropy of parent node\n",
    "    #print(\"H: \", H)\n",
    "    H_left = calc_entropy(left_yvals) # entropy of left child node\n",
    "    #print(\"H_left: \", H_left)\n",
    "    H_right = calc_entropy(right_yvals) # entropy of right child node\n",
    "    #print(\"H_right: \", H_right)\n",
    "    P_left = len(left_yvals) / len(parent_yvals)\n",
    "    P_right = len(right_yvals) / len(parent_yvals)\n",
    "    cond_entropy = (H_left * P_left) + (H_right * P_right) # conditional entropy to compare to parent node\n",
    "    #print(\"cond_entropy: \", cond_entropy)\n",
    "    return H - cond_entropy # difference between parent node and child node entropy\n",
    "\n",
    "#parent_y = data[:,-1]\n",
    "#left_node, right_node = split_data(0, 600, data)\n",
    "#print(left_node)\n",
    "#print(right_node)\n",
    "#calc_infogain(parent_y, [obs[-1] for obs in left_node], [obs[-1] for obs in right_node])\n",
    "calc_infogain(y, y_left, y_right)"
   ]
  },
  {
   "cell_type": "code",
   "execution_count": 25,
   "metadata": {},
   "outputs": [
    {
     "name": "stdout",
     "output_type": "stream",
     "text": [
      "[8.96429275e+04 9.29105800e+04 1.75000000e+00]\n"
     ]
    }
   ],
   "source": [
    "m = int(np.round(np.sqrt(len(X[1])),2)) # set number of predectors to test = sqrt total # predictors\n",
    "pred_idxs_to_test = np.random.choice(range(0,len(X[1])),m, replace=False) # select random subset of predictors to test\n",
    "pred_vals_to_test = np.mean(X, axis=0)[pred_idxs_to_test] # use mean value for each predictor as split value\n",
    "print(pred_vals_to_test)"
   ]
  },
  {
   "cell_type": "code",
   "execution_count": 59,
   "metadata": {},
   "outputs": [],
   "source": [
    "# new function to determine best split (or no split)\n",
    "def best_split(X, y):\n",
    "    m = int(np.round(np.sqrt(len(X[1])),2)) # set number of predectors to test = sqrt total # predictors\n",
    "    pred_idxs_to_test = np.random.choice(range(0,len(X[1])),m, replace=False) # select random subset of predictors to test\n",
    "    pred_vals_to_test = np.mean(X, axis=0)[pred_idxs_to_test] # use mean value for each predictor as split value\n",
    "    max_infogain, best_idx, best_val, best_left, best_right = 0, 9999999, 9999999, {}, {}\n",
    "    for i in range(len(pred_idxs_to_test)): # for each predictor in random subset\n",
    "        X_left, X_right, y_left, y_right = split_data(pred_idxs_to_test[i], pred_vals_to_test[i], X, y) # split data on mean value for each predictor\n",
    "        infogain = calc_infogain(y, y_left, y_right)\n",
    "        if infogain > max_infogain: # determine if split increases information gain / reduces entropy\n",
    "            max_infogain = infogain\n",
    "            best_idx = pred_idxs_to_test[i]\n",
    "            best_val = pred_vals_to_test[i]\n",
    "            best_left = {\"X_left\": X_left, \"y_left\": y_left}\n",
    "            best_right = {\"X_right\": X_right, \"y_right\": y_right}\n",
    "    #print(\"max_infogain\", max_infogain)\n",
    "    return {\"pred_idx\": best_idx, \"pred_val\": best_val, \"left\": best_left, \"right\": best_right}\n",
    "\n",
    "#best_split(X, y)"
   ]
  },
  {
   "cell_type": "code",
   "execution_count": 28,
   "metadata": {},
   "outputs": [
    {
     "data": {
      "text/plain": [
       "'def best_split(data):\\n    y_vals = data[:,-1] # extract response values from data\\n    #max_infogain = 0\\n    m = int(np.round(np.sqrt(data.shape[1]-1))) # set number of predectors to test = sqrt total # predictors\\n    pred_idxs_to_test = np.random.choice(range(0,data.shape[1]-1),m, replace=False) # select random subset of predictors to test\\n    pred_vals_to_test = np.mean(data[:,0:-1], axis=0)[pred_idxs_to_test] # use mean value for each predictor as split value\\n    #print(pred_idxs_to_test)\\n    #max_infogain, best_idx, best_val, best_left, best_right = 0, 999, 999, list(), list()\\n    max_infogain, best_idx, best_val, best_left, best_right = 0, 999, 999, None, None\\n    for i in range(len(pred_idxs_to_test)): # for each predictor in random subset\\n        left, right = split_data(pred_idxs_to_test[i], pred_vals_to_test[i], data) # split data on mean value for each predictor\\n        #infogain = calc_infogain(y_vals, [obs[-1] for obs in left], [obs[-1] for obs in right])\\n        infogain = calc_infogain(y_vals, left[:,-1], right[:,-1])\\n        if infogain > max_infogain: # determine if split increases information gain / reduces entropy\\n            max_infogain = infogain\\n            best_idx = pred_idxs_to_test[i]\\n            best_val = pred_vals_to_test[i]\\n            best_left, best_right = left, right\\n    print(\"max_infogain\", max_infogain)\\n    return {\"pred_idx\": best_idx, \"pred_val\": best_val, \"left\": best_left, \"right\": best_right}\\n\\nbest_split(data)'"
      ]
     },
     "execution_count": 28,
     "metadata": {},
     "output_type": "execute_result"
    }
   ],
   "source": [
    "# function to determine best split (or no split)\n",
    "'''def best_split(data):\n",
    "    y_vals = data[:,-1] # extract response values from data\n",
    "    #max_infogain = 0\n",
    "    m = int(np.round(np.sqrt(data.shape[1]-1))) # set number of predectors to test = sqrt total # predictors\n",
    "    pred_idxs_to_test = np.random.choice(range(0,data.shape[1]-1),m, replace=False) # select random subset of predictors to test\n",
    "    pred_vals_to_test = np.mean(data[:,0:-1], axis=0)[pred_idxs_to_test] # use mean value for each predictor as split value\n",
    "    #print(pred_idxs_to_test)\n",
    "    #max_infogain, best_idx, best_val, best_left, best_right = 0, 999, 999, list(), list()\n",
    "    max_infogain, best_idx, best_val, best_left, best_right = 0, 999, 999, None, None\n",
    "    for i in range(len(pred_idxs_to_test)): # for each predictor in random subset\n",
    "        left, right = split_data(pred_idxs_to_test[i], pred_vals_to_test[i], data) # split data on mean value for each predictor\n",
    "        #infogain = calc_infogain(y_vals, [obs[-1] for obs in left], [obs[-1] for obs in right])\n",
    "        infogain = calc_infogain(y_vals, left[:,-1], right[:,-1])\n",
    "        if infogain > max_infogain: # determine if split increases information gain / reduces entropy\n",
    "            max_infogain = infogain\n",
    "            best_idx = pred_idxs_to_test[i]\n",
    "            best_val = pred_vals_to_test[i]\n",
    "            best_left, best_right = left, right\n",
    "    print(\"max_infogain\", max_infogain)\n",
    "    return {\"pred_idx\": best_idx, \"pred_val\": best_val, \"left\": best_left, \"right\": best_right}\n",
    "\n",
    "best_split(data)'''"
   ]
  },
  {
   "cell_type": "code",
   "execution_count": 29,
   "metadata": {},
   "outputs": [
    {
     "data": {
      "text/plain": [
       "'def best_split(data):\\n    y_vals = data[:,-1] # extract response values from data\\n    max_infogain = 0\\n    m = int(np.round(np.sqrt(data.shape[1]-1))) # set number of predectors to test = sqrt total predictors\\n    pred_vals_to_test = np.random.choice(range(0,data.shape[1]-1),m, replace=False) # select random subset of predictors to test\\n    print(pred_vals_to_test)\\n    #max_infogain, best_idx, best_val, best_left, best_right = 0, 999, 999, list(), list()\\n    for idx in pred_vals_to_test:\\n        for row in data:\\n            left, right = split_data(idx, row[idx], data)\\n            infogain = calc_infogain(y_vals, [obs[-1] for obs in left], [obs[-1] for obs in right])\\n            #print(\"infogain: \", infogain)\\n            if infogain > max_infogain:\\n                max_infogain = infogain\\n                best_idx = idx\\n                best_val = row[idx]\\n                best_left, best_right = left, right\\n    print(\"max_infogain\", max_infogain)\\n    return {\"pred_idx\": best_idx, \"pred_val\": best_val, \"left\": best_left, \"right\": best_right}\\n\\nbest_split(data)'"
      ]
     },
     "execution_count": 29,
     "metadata": {},
     "output_type": "execute_result"
    }
   ],
   "source": [
    "# old\n",
    "# function to determine best split (or no split)\n",
    "'''def best_split(data):\n",
    "    y_vals = data[:,-1] # extract response values from data\n",
    "    max_infogain = 0\n",
    "    m = int(np.round(np.sqrt(data.shape[1]-1))) # set number of predectors to test = sqrt total predictors\n",
    "    pred_vals_to_test = np.random.choice(range(0,data.shape[1]-1),m, replace=False) # select random subset of predictors to test\n",
    "    print(pred_vals_to_test)\n",
    "    #max_infogain, best_idx, best_val, best_left, best_right = 0, 999, 999, list(), list()\n",
    "    for idx in pred_vals_to_test:\n",
    "        for row in data:\n",
    "            left, right = split_data(idx, row[idx], data)\n",
    "            infogain = calc_infogain(y_vals, [obs[-1] for obs in left], [obs[-1] for obs in right])\n",
    "            #print(\"infogain: \", infogain)\n",
    "            if infogain > max_infogain:\n",
    "                max_infogain = infogain\n",
    "                best_idx = idx\n",
    "                best_val = row[idx]\n",
    "                best_left, best_right = left, right\n",
    "    print(\"max_infogain\", max_infogain)\n",
    "    return {\"pred_idx\": best_idx, \"pred_val\": best_val, \"left\": best_left, \"right\": best_right}\n",
    "\n",
    "best_split(data)'''"
   ]
  },
  {
   "cell_type": "code",
   "execution_count": 60,
   "metadata": {},
   "outputs": [],
   "source": [
    "# function to build decision tree\n",
    "def build_tree(X, y):\n",
    "    #tree = best_split(X, y) # get root node with best split for full data\n",
    "    depth = 0 # set initial depth to 0\n",
    "    parent = {} # begin with empty parent node\n",
    "    split_tree(tree, parent, depth) # call recursive function to build tree"
   ]
  },
  {
   "cell_type": "code",
   "execution_count": 61,
   "metadata": {},
   "outputs": [],
   "source": [
    "# function to split tree, called recursively\n",
    "def split_tree(node, parent_node, d):\n",
    "    \n",
    "    # save data from node to be used in split if needed\n",
    "    left, right = node[\"left\"], node[\"right\"]\n",
    "    \n",
    "    # delete data from node so can reassign best classification\n",
    "    del(node[\"left\"], node[\"right\"])\n",
    "    \n",
    "    # check if node contains empty dataset\n",
    "    if len(left[\"X_left\"])==0 or len(right[\"X_right\"])==0:\n",
    "        # assign each branch of the node to the most common class from the parent node\n",
    "        node[\"left\"] = max(set(parent_node[\"left\"][\"y_left\"]), key=parent_node[\"left\"][\"y_left\"].count)\n",
    "        node[\"right\"] = max(set(parent_node[\"right\"][\"y_right\"]), key=parent_node[\"right\"][\"y_right\"].count)\n",
    "        return\n",
    "    \n",
    "    # check if tree has been split maximum number of times\n",
    "    elif d >= max_depth:\n",
    "        # assign each branch of the node to the most common class from the parent node\n",
    "        node[\"left\"] = max(set(parent_node[\"left\"][\"y_left\"]), key=parent_node[\"left\"][\"y_left\"].count)\n",
    "        node[\"right\"] = max(set(parent_node[\"right\"][\"y_right\"]), key=parent_node[\"right\"][\"y_right\"].count)\n",
    "        return\n",
    "    else:\n",
    "        # check left and right datasets to see if need to split more or make terminal node\n",
    "        # assess left node\n",
    "        if len(set(left[\"y_left\"]))==1:\n",
    "            # assign left branch of the node to the most common class from the parent node\n",
    "            node[\"left\"] = max(set(parent_node[\"left\"][\"y_left\"]), key=parent_node[\"left\"][\"y_left\"].count)\n",
    "            return\n",
    "        else:\n",
    "            # split this branch by calling split_tree function\n",
    "            node[\"left\"] = best_split(left[\"X_left\"], left[\"y_left\"])\n",
    "            parent = {\"left\": left, \"right\": right}\n",
    "            split_tree(node[\"left\"], parent, d+1)\n",
    "        # assess right node\n",
    "        if len(set(right[\"y_right\"]))==1:\n",
    "            # assign right branch of the node to the most common class from the parent node\n",
    "            node[\"right\"] = max(set(parent_node[\"right\"][\"y_right\"]), key=parent_node[\"right\"][\"y_right\"].count)\n",
    "            return\n",
    "        else:\n",
    "            # split this branch by calling split_tree function\n",
    "            node[\"right\"] = best_split(right[\"X_right\"], right[\"y_right\"])\n",
    "            parent = {\"left\": left, \"right\": right}\n",
    "            split_tree(node[\"right\"], parent, d+1)"
   ]
  },
  {
   "cell_type": "code",
   "execution_count": null,
   "metadata": {},
   "outputs": [],
   "source": [
    "# load data"
   ]
  },
  {
   "cell_type": "code",
   "execution_count": null,
   "metadata": {},
   "outputs": [],
   "source": [
    "# set number of trees"
   ]
  },
  {
   "cell_type": "code",
   "execution_count": null,
   "metadata": {},
   "outputs": [],
   "source": [
    "# set number of splits"
   ]
  },
  {
   "cell_type": "code",
   "execution_count": null,
   "metadata": {},
   "outputs": [],
   "source": [
    "# bootstrap datasets"
   ]
  },
  {
   "cell_type": "code",
   "execution_count": null,
   "metadata": {},
   "outputs": [],
   "source": [
    "# build decision tree"
   ]
  },
  {
   "cell_type": "code",
   "execution_count": 62,
   "metadata": {},
   "outputs": [
    {
     "name": "stdout",
     "output_type": "stream",
     "text": [
      "tree:  {'pred_idx': 5, 'pred_val': 1.5138, 'left': {'pred_idx': 7, 'pred_val': 0.45562342795544375, 'left': {'pred_idx': 6, 'pred_val': 0.7148514851485148, 'left': {'pred_idx': 4, 'pred_val': 98192.96773148148, 'left': {'pred_idx': 1, 'pred_val': 0.4805194805194805, 'left': {'pred_idx': 3, 'pred_val': 5.0125, 'left': 1, 'right': 0}, 'right': {'pred_idx': 2, 'pred_val': 40.945945945945944, 'left': 1, 'right': 0}}, 'right': {'pred_idx': 3, 'pred_val': 4.9352517985611515, 'left': {'pred_idx': 4, 'pred_val': 129338.25778688525, 'left': 1, 'right': 1}, 'right': {'pred_idx': 2, 'pred_val': 40.67307692307692, 'left': 1, 'right': 1}}}, 'right': {'pred_idx': 2, 'pred_val': 41.38781163434903, 'left': {'pred_idx': 4, 'pred_val': 98747.77335069445, 'left': {'pred_idx': 1, 'pred_val': 0.5, 'left': 0, 'right': 0}, 'right': {'pred_idx': 8, 'pred_val': 101041.34840540541, 'left': 0, 'right': 0}}, 'right': {'pred_idx': 8, 'pred_val': 101263.2396449704, 'left': {'pred_idx': 4, 'pred_val': 92303.47428571427, 'left': 1, 'right': 1}, 'right': {'pred_idx': 1, 'pred_val': 0.5058823529411764, 'left': 1, 'right': 1}}}}, 'right': {'pred_idx': 2, 'pred_val': 41.245268138801265, 'left': {'pred_idx': 1, 'pred_val': 0.5591397849462365, 'left': {'pred_idx': 2, 'pred_val': 33.30792682926829, 'left': {'pred_idx': 8, 'pred_val': 98059.32297468351, 'left': 0, 'right': 0}, 'right': {'pred_idx': 8, 'pred_val': 92961.78441176469, 'left': 0, 'right': 0}}, 'right': {'pred_idx': 2, 'pred_val': 33.56490384615385, 'left': {'pred_idx': 8, 'pred_val': 103419.05026455018, 'left': 0, 'right': 0}, 'right': {'pred_idx': 3, 'pred_val': 4.828193832599119, 'left': 0, 'right': 0}}}, 'right': {'pred_idx': 3, 'pred_val': 4.816793893129771, 'left': {'pred_idx': 2, 'pred_val': 52.77327935222672, 'left': {'pred_idx': 1, 'pred_val': 0.45925925925925926, 'left': 1, 'right': 1}, 'right': {'pred_idx': 2, 'pred_val': 60.410714285714285, 'left': 1, 'right': 1}}, 'right': {'pred_idx': 4, 'pred_val': 96418.64548736463, 'left': {'pred_idx': 6, 'pred_val': 0.6494845360824743, 'left': 0, 'right': 1}, 'right': {'pred_idx': 3, 'pred_val': 7.2555555555555555, 'left': 0, 'right': 1}}}}}, 'right': {'pred_idx': 5, 'pred_val': 2.1587731168245377, 'left': {'pred_idx': 4, 'pred_val': 55571.37201558448, 'left': {'pred_idx': 7, 'pred_val': 0.5152963671128107, 'left': {'pred_idx': 2, 'pred_val': 35.83037475345168, 'left': {'pred_idx': 3, 'pred_val': 5.36328125, 'left': 0, 'right': 0}, 'right': {'pred_idx': 4, 'pred_val': 331.017609561753, 'left': 0, 'right': 0}}, 'right': {'pred_idx': 1, 'pred_val': 0.5547309833024119, 'left': {'pred_idx': 2, 'pred_val': 39.90416666666667, 'left': 0, 'right': 0}, 'right': {'pred_idx': 3, 'pred_val': 5.013377926421405, 'left': 0, 'right': 0}}}, 'right': {'pred_idx': 7, 'pred_val': 0.49715585893060293, 'left': {'pred_idx': 2, 'pred_val': 39.085972850678736, 'left': {'pred_idx': 2, 'pred_val': 32.576, 'left': 0, 'right': 1}, 'right': {'pred_idx': 2, 'pred_val': 47.5625, 'left': 0, 'right': 1}}, 'right': {'pred_idx': 6, 'pred_val': 0.6910755148741419, 'left': {'pred_idx': 2, 'pred_val': 39.24444444444445, 'left': 0, 'right': 0}, 'right': {'pred_idx': 2, 'pred_val': 39.682119205298015, 'left': 0, 'right': 0}}}}, 'right': {'pred_idx': 4, 'pred_val': 85451.37452054796, 'left': {'pred_idx': 2, 'pred_val': 44.43119266055046, 'left': {'pred_idx': 2, 'pred_val': 37.233333333333334, 'left': {'pred_idx': 6, 'pred_val': 0.5909090909090909, 'left': 1, 'right': 1}, 'right': {'pred_idx': 2, 'pred_val': 41.36842105263158, 'left': 1, 'right': 1}}, 'right': {'pred_idx': 1, 'pred_val': 0.40816326530612246, 'left': 1}}, 'right': {'pred_idx': 2, 'pred_val': 44.295081967213115, 'left': {'pred_idx': 2, 'pred_val': 36.808510638297875, 'left': {'pred_idx': 1, 'pred_val': 0.39473684210526316, 'left': 1, 'right': 1}, 'right': 1}, 'right': 1}}}}\n"
     ]
    }
   ],
   "source": [
    "# main function\n",
    "# set maximum depth for tree\n",
    "max_depth = 5\n",
    "# get root node for tree\n",
    "tree = best_split(X, y)\n",
    "# split root node recursively\n",
    "build_tree(X, y)\n",
    "print(\"tree: \", tree)"
   ]
  },
  {
   "cell_type": "markdown",
   "metadata": {},
   "source": [
    "#### References\n",
    "http://www.cs.cmu.edu/afs/cs.cmu.edu/academic/class/15381-s06/www/DTs.pdf"
   ]
  },
  {
   "cell_type": "code",
   "execution_count": null,
   "metadata": {},
   "outputs": [],
   "source": []
  }
 ],
 "metadata": {
  "kernelspec": {
   "display_name": "Python 3",
   "language": "python",
   "name": "python3"
  },
  "language_info": {
   "codemirror_mode": {
    "name": "ipython",
    "version": 3
   },
   "file_extension": ".py",
   "mimetype": "text/x-python",
   "name": "python",
   "nbconvert_exporter": "python",
   "pygments_lexer": "ipython3",
   "version": "3.7.4"
  }
 },
 "nbformat": 4,
 "nbformat_minor": 4
}
